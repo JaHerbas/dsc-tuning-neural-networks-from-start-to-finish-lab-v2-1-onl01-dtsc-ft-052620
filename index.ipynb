{
 "cells": [
  {
   "cell_type": "markdown",
   "metadata": {},
   "source": [
    "# Tuning and Optimizing Neural Networks - Lab\n",
    "\n",
    "## Introduction\n",
    "\n",
    "Now that you've practiced regularization, initialization, and optimization techniques, its time to synthesize these concepts into a cohesive modeling pipeline.  \n",
    "\n",
    "With this pipeline, you will not only fit an initial model but also attempt to improve it. Your final model selection will pertain to the test metrics across these models. This will more naturally simulate a problem you might be faced with in practice, and the various modeling decisions you are apt to encounter along the way.  \n",
    "\n",
    "Recall that our end objective is to achieve a balance between overfitting and underfitting. You've seen the bias variance trade-off, and the role of regularization in order to reduce overfitting on training data and improving generalization to new cases. Common frameworks for such a procedure include train/validate/test methodology when data is plentiful, and K-folds cross-validation for smaller, more limited datasets. In this lab, you'll perform the latter, as the dataset in question is fairly limited. \n",
    "\n",
    "## Objectives\n",
    "\n",
    "You will be able to:\n",
    "\n",
    "* Apply normalization as a preprocessing technique \n",
    "* Implement a K-folds cross validation modeling pipeline for deep learning models \n",
    "* Apply regularization techniques to improve your model's performance "
   ]
  },
  {
   "cell_type": "markdown",
   "metadata": {},
   "source": [
    "## Load the data\n",
    "\n",
    "First, run the following cell to import all the neccessary libraries and classes you will need in this lab. "
   ]
  },
  {
   "cell_type": "code",
   "execution_count": 1,
   "metadata": {
    "ExecuteTime": {
     "end_time": "2020-09-11T11:53:27.050222Z",
     "start_time": "2020-09-11T11:53:24.166534Z"
    }
   },
   "outputs": [
    {
     "name": "stderr",
     "output_type": "stream",
     "text": [
      "Using TensorFlow backend.\n"
     ]
    }
   ],
   "source": [
    "# Necessary libraries and classes\n",
    "import numpy as np\n",
    "import pandas as pd\n",
    "from sklearn.model_selection import train_test_split\n",
    "from sklearn.preprocessing import StandardScaler, OneHotEncoder\n",
    "from sklearn.impute import SimpleImputer\n",
    "from sklearn.metrics import mean_squared_error\n",
    "from sklearn.model_selection import cross_val_predict\n",
    "from keras import models\n",
    "from keras import layers\n",
    "from keras import regularizers\n",
    "from keras.wrappers.scikit_learn import KerasRegressor"
   ]
  },
  {
   "cell_type": "code",
   "execution_count": 2,
   "metadata": {
    "ExecuteTime": {
     "end_time": "2020-09-11T11:53:52.841649Z",
     "start_time": "2020-09-11T11:53:52.838892Z"
    }
   },
   "outputs": [],
   "source": [
    "pd.set_option('max_columns', None)"
   ]
  },
  {
   "cell_type": "markdown",
   "metadata": {},
   "source": [
    "In this lab you'll be working with the *The Lending Club* data. \n",
    "\n",
    "- Import the data available in the file `'loan_final.csv'` \n",
    "- Drop rows with missing values in the `'total_pymnt'` column (this is your target column) \n",
    "- Print the first five rows of the data \n",
    "- Print the dimensions of the data "
   ]
  },
  {
   "cell_type": "code",
   "execution_count": 5,
   "metadata": {
    "ExecuteTime": {
     "end_time": "2020-09-11T11:56:11.047218Z",
     "start_time": "2020-09-11T11:56:10.926939Z"
    }
   },
   "outputs": [
    {
     "data": {
      "text/html": [
       "<div>\n",
       "<style scoped>\n",
       "    .dataframe tbody tr th:only-of-type {\n",
       "        vertical-align: middle;\n",
       "    }\n",
       "\n",
       "    .dataframe tbody tr th {\n",
       "        vertical-align: top;\n",
       "    }\n",
       "\n",
       "    .dataframe thead th {\n",
       "        text-align: right;\n",
       "    }\n",
       "</style>\n",
       "<table border=\"1\" class=\"dataframe\">\n",
       "  <thead>\n",
       "    <tr style=\"text-align: right;\">\n",
       "      <th></th>\n",
       "      <th>loan_amnt</th>\n",
       "      <th>funded_amnt_inv</th>\n",
       "      <th>term</th>\n",
       "      <th>int_rate</th>\n",
       "      <th>installment</th>\n",
       "      <th>grade</th>\n",
       "      <th>emp_length</th>\n",
       "      <th>home_ownership</th>\n",
       "      <th>annual_inc</th>\n",
       "      <th>verification_status</th>\n",
       "      <th>loan_status</th>\n",
       "      <th>purpose</th>\n",
       "      <th>addr_state</th>\n",
       "      <th>total_acc</th>\n",
       "      <th>total_pymnt</th>\n",
       "      <th>application_type</th>\n",
       "    </tr>\n",
       "  </thead>\n",
       "  <tbody>\n",
       "    <tr>\n",
       "      <td>0</td>\n",
       "      <td>5000.0</td>\n",
       "      <td>4975.0</td>\n",
       "      <td>36 months</td>\n",
       "      <td>10.65%</td>\n",
       "      <td>162.87</td>\n",
       "      <td>B</td>\n",
       "      <td>10+ years</td>\n",
       "      <td>RENT</td>\n",
       "      <td>24000.0</td>\n",
       "      <td>Verified</td>\n",
       "      <td>Fully Paid</td>\n",
       "      <td>credit_card</td>\n",
       "      <td>AZ</td>\n",
       "      <td>9.0</td>\n",
       "      <td>5863.155187</td>\n",
       "      <td>Individual</td>\n",
       "    </tr>\n",
       "    <tr>\n",
       "      <td>1</td>\n",
       "      <td>2500.0</td>\n",
       "      <td>2500.0</td>\n",
       "      <td>60 months</td>\n",
       "      <td>15.27%</td>\n",
       "      <td>59.83</td>\n",
       "      <td>C</td>\n",
       "      <td>&lt; 1 year</td>\n",
       "      <td>RENT</td>\n",
       "      <td>30000.0</td>\n",
       "      <td>Source Verified</td>\n",
       "      <td>Charged Off</td>\n",
       "      <td>car</td>\n",
       "      <td>GA</td>\n",
       "      <td>4.0</td>\n",
       "      <td>1014.530000</td>\n",
       "      <td>Individual</td>\n",
       "    </tr>\n",
       "    <tr>\n",
       "      <td>2</td>\n",
       "      <td>2400.0</td>\n",
       "      <td>2400.0</td>\n",
       "      <td>36 months</td>\n",
       "      <td>15.96%</td>\n",
       "      <td>84.33</td>\n",
       "      <td>C</td>\n",
       "      <td>10+ years</td>\n",
       "      <td>RENT</td>\n",
       "      <td>12252.0</td>\n",
       "      <td>Not Verified</td>\n",
       "      <td>Fully Paid</td>\n",
       "      <td>small_business</td>\n",
       "      <td>IL</td>\n",
       "      <td>10.0</td>\n",
       "      <td>3005.666844</td>\n",
       "      <td>Individual</td>\n",
       "    </tr>\n",
       "    <tr>\n",
       "      <td>42535</td>\n",
       "      <td>2525.0</td>\n",
       "      <td>225.0</td>\n",
       "      <td>36 months</td>\n",
       "      <td>9.33%</td>\n",
       "      <td>80.69</td>\n",
       "      <td>B</td>\n",
       "      <td>&lt; 1 year</td>\n",
       "      <td>RENT</td>\n",
       "      <td>110000.0</td>\n",
       "      <td>Not Verified</td>\n",
       "      <td>Does not meet the credit policy. Status:Fully ...</td>\n",
       "      <td>other</td>\n",
       "      <td>NY</td>\n",
       "      <td>NaN</td>\n",
       "      <td>2904.498829</td>\n",
       "      <td>Individual</td>\n",
       "    </tr>\n",
       "    <tr>\n",
       "      <td>42536</td>\n",
       "      <td>6500.0</td>\n",
       "      <td>0.0</td>\n",
       "      <td>36 months</td>\n",
       "      <td>8.38%</td>\n",
       "      <td>204.84</td>\n",
       "      <td>A</td>\n",
       "      <td>&lt; 1 year</td>\n",
       "      <td>NONE</td>\n",
       "      <td>NaN</td>\n",
       "      <td>Not Verified</td>\n",
       "      <td>Does not meet the credit policy. Status:Fully ...</td>\n",
       "      <td>other</td>\n",
       "      <td>NY</td>\n",
       "      <td>NaN</td>\n",
       "      <td>7373.904962</td>\n",
       "      <td>Individual</td>\n",
       "    </tr>\n",
       "    <tr>\n",
       "      <td>42537</td>\n",
       "      <td>5000.0</td>\n",
       "      <td>0.0</td>\n",
       "      <td>36 months</td>\n",
       "      <td>7.75%</td>\n",
       "      <td>156.11</td>\n",
       "      <td>A</td>\n",
       "      <td>10+ years</td>\n",
       "      <td>MORTGAGE</td>\n",
       "      <td>70000.0</td>\n",
       "      <td>Not Verified</td>\n",
       "      <td>Does not meet the credit policy. Status:Fully ...</td>\n",
       "      <td>other</td>\n",
       "      <td>CT</td>\n",
       "      <td>NaN</td>\n",
       "      <td>5619.762090</td>\n",
       "      <td>Individual</td>\n",
       "    </tr>\n",
       "  </tbody>\n",
       "</table>\n",
       "</div>"
      ],
      "text/plain": [
       "       loan_amnt  funded_amnt_inv        term int_rate  installment grade  \\\n",
       "0         5000.0           4975.0   36 months   10.65%       162.87     B   \n",
       "1         2500.0           2500.0   60 months   15.27%        59.83     C   \n",
       "2         2400.0           2400.0   36 months   15.96%        84.33     C   \n",
       "42535     2525.0            225.0   36 months    9.33%        80.69     B   \n",
       "42536     6500.0              0.0   36 months    8.38%       204.84     A   \n",
       "42537     5000.0              0.0   36 months    7.75%       156.11     A   \n",
       "\n",
       "      emp_length home_ownership  annual_inc verification_status  \\\n",
       "0      10+ years           RENT     24000.0            Verified   \n",
       "1       < 1 year           RENT     30000.0     Source Verified   \n",
       "2      10+ years           RENT     12252.0        Not Verified   \n",
       "42535   < 1 year           RENT    110000.0        Not Verified   \n",
       "42536   < 1 year           NONE         NaN        Not Verified   \n",
       "42537  10+ years       MORTGAGE     70000.0        Not Verified   \n",
       "\n",
       "                                             loan_status         purpose  \\\n",
       "0                                             Fully Paid     credit_card   \n",
       "1                                            Charged Off             car   \n",
       "2                                             Fully Paid  small_business   \n",
       "42535  Does not meet the credit policy. Status:Fully ...           other   \n",
       "42536  Does not meet the credit policy. Status:Fully ...           other   \n",
       "42537  Does not meet the credit policy. Status:Fully ...           other   \n",
       "\n",
       "      addr_state  total_acc  total_pymnt application_type  \n",
       "0             AZ        9.0  5863.155187       Individual  \n",
       "1             GA        4.0  1014.530000       Individual  \n",
       "2             IL       10.0  3005.666844       Individual  \n",
       "42535         NY        NaN  2904.498829       Individual  \n",
       "42536         NY        NaN  7373.904962       Individual  \n",
       "42537         CT        NaN  5619.762090       Individual  "
      ]
     },
     "execution_count": 5,
     "metadata": {},
     "output_type": "execute_result"
    }
   ],
   "source": [
    "# Import the data\n",
    "data = pd.read_csv('loan_final.csv')\n",
    "data.head(3).append(data.tail(3))"
   ]
  },
  {
   "cell_type": "code",
   "execution_count": 8,
   "metadata": {
    "ExecuteTime": {
     "end_time": "2020-09-11T11:57:08.287400Z",
     "start_time": "2020-09-11T11:57:08.263324Z"
    }
   },
   "outputs": [
    {
     "data": {
      "text/html": [
       "<div>\n",
       "<style scoped>\n",
       "    .dataframe tbody tr th:only-of-type {\n",
       "        vertical-align: middle;\n",
       "    }\n",
       "\n",
       "    .dataframe tbody tr th {\n",
       "        vertical-align: top;\n",
       "    }\n",
       "\n",
       "    .dataframe thead th {\n",
       "        text-align: right;\n",
       "    }\n",
       "</style>\n",
       "<table border=\"1\" class=\"dataframe\">\n",
       "  <thead>\n",
       "    <tr style=\"text-align: right;\">\n",
       "      <th></th>\n",
       "      <th>loan_amnt</th>\n",
       "      <th>funded_amnt_inv</th>\n",
       "      <th>term</th>\n",
       "      <th>int_rate</th>\n",
       "      <th>installment</th>\n",
       "      <th>grade</th>\n",
       "      <th>emp_length</th>\n",
       "      <th>home_ownership</th>\n",
       "      <th>annual_inc</th>\n",
       "      <th>verification_status</th>\n",
       "      <th>loan_status</th>\n",
       "      <th>purpose</th>\n",
       "      <th>addr_state</th>\n",
       "      <th>total_acc</th>\n",
       "      <th>total_pymnt</th>\n",
       "      <th>application_type</th>\n",
       "    </tr>\n",
       "  </thead>\n",
       "  <tbody>\n",
       "    <tr>\n",
       "      <td>0</td>\n",
       "      <td>5000.0</td>\n",
       "      <td>4975.0</td>\n",
       "      <td>36 months</td>\n",
       "      <td>10.65%</td>\n",
       "      <td>162.87</td>\n",
       "      <td>B</td>\n",
       "      <td>10+ years</td>\n",
       "      <td>RENT</td>\n",
       "      <td>24000.0</td>\n",
       "      <td>Verified</td>\n",
       "      <td>Fully Paid</td>\n",
       "      <td>credit_card</td>\n",
       "      <td>AZ</td>\n",
       "      <td>9.0</td>\n",
       "      <td>5863.155187</td>\n",
       "      <td>Individual</td>\n",
       "    </tr>\n",
       "    <tr>\n",
       "      <td>1</td>\n",
       "      <td>2500.0</td>\n",
       "      <td>2500.0</td>\n",
       "      <td>60 months</td>\n",
       "      <td>15.27%</td>\n",
       "      <td>59.83</td>\n",
       "      <td>C</td>\n",
       "      <td>&lt; 1 year</td>\n",
       "      <td>RENT</td>\n",
       "      <td>30000.0</td>\n",
       "      <td>Source Verified</td>\n",
       "      <td>Charged Off</td>\n",
       "      <td>car</td>\n",
       "      <td>GA</td>\n",
       "      <td>4.0</td>\n",
       "      <td>1014.530000</td>\n",
       "      <td>Individual</td>\n",
       "    </tr>\n",
       "    <tr>\n",
       "      <td>2</td>\n",
       "      <td>2400.0</td>\n",
       "      <td>2400.0</td>\n",
       "      <td>36 months</td>\n",
       "      <td>15.96%</td>\n",
       "      <td>84.33</td>\n",
       "      <td>C</td>\n",
       "      <td>10+ years</td>\n",
       "      <td>RENT</td>\n",
       "      <td>12252.0</td>\n",
       "      <td>Not Verified</td>\n",
       "      <td>Fully Paid</td>\n",
       "      <td>small_business</td>\n",
       "      <td>IL</td>\n",
       "      <td>10.0</td>\n",
       "      <td>3005.666844</td>\n",
       "      <td>Individual</td>\n",
       "    </tr>\n",
       "    <tr>\n",
       "      <td>3</td>\n",
       "      <td>10000.0</td>\n",
       "      <td>10000.0</td>\n",
       "      <td>36 months</td>\n",
       "      <td>13.49%</td>\n",
       "      <td>339.31</td>\n",
       "      <td>C</td>\n",
       "      <td>10+ years</td>\n",
       "      <td>RENT</td>\n",
       "      <td>49200.0</td>\n",
       "      <td>Source Verified</td>\n",
       "      <td>Fully Paid</td>\n",
       "      <td>other</td>\n",
       "      <td>CA</td>\n",
       "      <td>37.0</td>\n",
       "      <td>12231.890000</td>\n",
       "      <td>Individual</td>\n",
       "    </tr>\n",
       "    <tr>\n",
       "      <td>4</td>\n",
       "      <td>3000.0</td>\n",
       "      <td>3000.0</td>\n",
       "      <td>60 months</td>\n",
       "      <td>12.69%</td>\n",
       "      <td>67.79</td>\n",
       "      <td>B</td>\n",
       "      <td>1 year</td>\n",
       "      <td>RENT</td>\n",
       "      <td>80000.0</td>\n",
       "      <td>Source Verified</td>\n",
       "      <td>Fully Paid</td>\n",
       "      <td>other</td>\n",
       "      <td>OR</td>\n",
       "      <td>38.0</td>\n",
       "      <td>4066.908161</td>\n",
       "      <td>Individual</td>\n",
       "    </tr>\n",
       "  </tbody>\n",
       "</table>\n",
       "</div>"
      ],
      "text/plain": [
       "   loan_amnt  funded_amnt_inv        term int_rate  installment grade  \\\n",
       "0     5000.0           4975.0   36 months   10.65%       162.87     B   \n",
       "1     2500.0           2500.0   60 months   15.27%        59.83     C   \n",
       "2     2400.0           2400.0   36 months   15.96%        84.33     C   \n",
       "3    10000.0          10000.0   36 months   13.49%       339.31     C   \n",
       "4     3000.0           3000.0   60 months   12.69%        67.79     B   \n",
       "\n",
       "  emp_length home_ownership  annual_inc verification_status  loan_status  \\\n",
       "0  10+ years           RENT     24000.0            Verified   Fully Paid   \n",
       "1   < 1 year           RENT     30000.0     Source Verified  Charged Off   \n",
       "2  10+ years           RENT     12252.0        Not Verified   Fully Paid   \n",
       "3  10+ years           RENT     49200.0     Source Verified   Fully Paid   \n",
       "4     1 year           RENT     80000.0     Source Verified   Fully Paid   \n",
       "\n",
       "          purpose addr_state  total_acc   total_pymnt application_type  \n",
       "0     credit_card         AZ        9.0   5863.155187       Individual  \n",
       "1             car         GA        4.0   1014.530000       Individual  \n",
       "2  small_business         IL       10.0   3005.666844       Individual  \n",
       "3           other         CA       37.0  12231.890000       Individual  \n",
       "4           other         OR       38.0   4066.908161       Individual  "
      ]
     },
     "execution_count": 8,
     "metadata": {},
     "output_type": "execute_result"
    }
   ],
   "source": [
    "# Drop rows with no target value\n",
    "data.dropna(subset=['total_pymnt'], inplace=True)\n",
    "\n",
    "# Print the first five rows\n",
    "data.head()"
   ]
  },
  {
   "cell_type": "code",
   "execution_count": 10,
   "metadata": {
    "ExecuteTime": {
     "end_time": "2020-09-11T11:57:38.473881Z",
     "start_time": "2020-09-11T11:57:38.470312Z"
    }
   },
   "outputs": [
    {
     "data": {
      "text/plain": [
       "(42535, 16)"
      ]
     },
     "execution_count": 10,
     "metadata": {},
     "output_type": "execute_result"
    }
   ],
   "source": [
    "# Print the dimensions of data \n",
    "data.shape"
   ]
  },
  {
   "cell_type": "markdown",
   "metadata": {},
   "source": [
    "## Generating a Hold Out Test Set\n",
    "\n",
    "While we will be using K-fold cross validation to select an optimal model, we still want a final hold out test set that is completely independent of any modeling decisions. As such, pull out a sample of 30% of the total available data. For consistency of results, use random seed 42. "
   ]
  },
  {
   "cell_type": "code",
   "execution_count": 16,
   "metadata": {
    "ExecuteTime": {
     "end_time": "2020-09-11T12:04:40.559130Z",
     "start_time": "2020-09-11T12:04:40.544670Z"
    }
   },
   "outputs": [],
   "source": [
    "# Features to build the model\n",
    "features = ['loan_amnt', 'funded_amnt_inv', 'installment', 'annual_inc', \n",
    "            'home_ownership', 'verification_status', 'emp_length']\n",
    "\n",
    "X = data[features]\n",
    "y = data[['total_pymnt']] # Target that we are working towards\n",
    "\n",
    "# Split the data into training and test sets\n",
    "X_train, X_test, y_train, y_test = train_test_split(X, y, test_size=0.3, random_state=42)"
   ]
  },
  {
   "cell_type": "markdown",
   "metadata": {},
   "source": [
    "## Preprocessing (Numerical features) \n",
    "\n",
    "- Fill all missing values in numeric features with their respective means \n",
    "- Standardize all the numeric features  \n",
    "- Convert the final results into DataFrames "
   ]
  },
  {
   "cell_type": "code",
   "execution_count": 17,
   "metadata": {
    "ExecuteTime": {
     "end_time": "2020-09-11T12:04:59.676027Z",
     "start_time": "2020-09-11T12:04:59.649237Z"
    }
   },
   "outputs": [],
   "source": [
    "# Select continuous features\n",
    "cont_features = ['loan_amnt', 'funded_amnt_inv', 'installment', 'annual_inc']\n",
    "X_train_cont = X_train.loc[:, cont_features]\n",
    "X_test_cont = X_test.loc[:, cont_features]\n",
    "\n",
    "# Instantiate SimpleImputer - fill the missing values with the mean\n",
    "si = SimpleImputer(strategy='mean')\n",
    "\n",
    "# Fit and transform the training data\n",
    "X_train_imputed = si.fit_transform(X_train_cont)\n",
    "\n",
    "# Transform test data\n",
    "X_test_imputed = si.transform(X_test_cont)\n",
    "\n",
    "# Instantiate StandardScaler\n",
    "ss_X = StandardScaler()\n",
    "\n",
    "# Fit and transform the training data\n",
    "X_train_scaled = pd.DataFrame(ss_X.fit_transform(X_train_imputed), columns=cont_features)\n",
    "\n",
    "# Transform test data\n",
    "X_test_scaled = pd.DataFrame(ss_X.transform(X_test_imputed), columns=cont_features)"
   ]
  },
  {
   "cell_type": "markdown",
   "metadata": {},
   "source": [
    "## Preprocessing (Categorical features) \n",
    "\n",
    "- Fill all missing values in categorical features with the string `'missing'` \n",
    "- One-hot encode all categorical features \n",
    "- Convert the final results into DataFrames \n"
   ]
  },
  {
   "cell_type": "code",
   "execution_count": 19,
   "metadata": {
    "ExecuteTime": {
     "end_time": "2020-09-11T12:10:54.600610Z",
     "start_time": "2020-09-11T12:10:54.544459Z"
    }
   },
   "outputs": [],
   "source": [
    "# Select only the categorical features\n",
    "cat_features = ['home_ownership', 'verification_status', 'emp_length']\n",
    "X_train_cat = X_train.loc[:, cat_features]\n",
    "X_test_cat = X_test.loc[:, cat_features]\n",
    "\n",
    "# Fill missing values with the string 'missing'\n",
    "\n",
    "X_train_cat.fillna(value='missing', inplace=True)\n",
    "X_test_cat.fillna(value='missing', inplace=True)\n",
    "\n",
    "# OneHotEncode categorical variables\n",
    "ohe = OneHotEncoder(handle_unknown='ignore')\n",
    "\n",
    "# Transform training and test sets\n",
    "X_train_ohe = ohe.fit_transform(X_train_cat)\n",
    "X_test_ohe = ohe.transform(X_test_cat)\n",
    "\n",
    "# Get all categorical feature names\n",
    "cat_columns = ohe.get_feature_names(input_features=X_train_cat.columns)\n",
    "\n",
    "# Fit and transform the training data\n",
    "X_train_categorical = pd.DataFrame(X_train_ohe.todense(), columns=cat_columns)\n",
    "\n",
    "# Transform test data\n",
    "X_test_categorical = pd.DataFrame(X_test_ohe.todense(), columns=cat_columns)"
   ]
  },
  {
   "cell_type": "markdown",
   "metadata": {},
   "source": [
    "Run the below cell to combine the numeric and categorical features. "
   ]
  },
  {
   "cell_type": "code",
   "execution_count": 20,
   "metadata": {
    "ExecuteTime": {
     "end_time": "2020-09-11T12:11:03.205941Z",
     "start_time": "2020-09-11T12:11:03.194084Z"
    }
   },
   "outputs": [],
   "source": [
    "# Combine continuous and categorical feature DataFrames\n",
    "X_train_all = pd.concat([X_train_scaled, X_train_categorical], axis=1)\n",
    "X_test_all = pd.concat([X_test_scaled, X_test_categorical], axis=1)\n",
    "\n",
    "# Number of input features\n",
    "n_features = X_train_all.shape[1]"
   ]
  },
  {
   "cell_type": "markdown",
   "metadata": {},
   "source": [
    "- Standardize the target DataFrames (`y_train` and `y_test`) "
   ]
  },
  {
   "cell_type": "code",
   "execution_count": 21,
   "metadata": {
    "ExecuteTime": {
     "end_time": "2020-09-11T12:11:47.406258Z",
     "start_time": "2020-09-11T12:11:47.396353Z"
    }
   },
   "outputs": [],
   "source": [
    "# Instantiate StandardScaler\n",
    "ss_y = StandardScaler()\n",
    "\n",
    "# Fit and transform Y (train)\n",
    "y_train_scaled = ss_y.fit_transform(y_train)\n",
    "\n",
    "# Transform test Y (test)\n",
    "y_test_scaled = ss_y.transform(y_test)"
   ]
  },
  {
   "cell_type": "code",
   "execution_count": 27,
   "metadata": {
    "ExecuteTime": {
     "end_time": "2020-09-11T12:14:44.450532Z",
     "start_time": "2020-09-11T12:14:44.447352Z"
    }
   },
   "outputs": [
    {
     "name": "stdout",
     "output_type": "stream",
     "text": [
      "<class 'pandas.core.frame.DataFrame'>\n",
      "<class 'pandas.core.frame.DataFrame'>\n"
     ]
    }
   ],
   "source": [
    "print(type(X_train_scaled))\n",
    "print(type(X_test_scaled))"
   ]
  },
  {
   "cell_type": "code",
   "execution_count": 29,
   "metadata": {
    "ExecuteTime": {
     "end_time": "2020-09-11T12:15:51.076912Z",
     "start_time": "2020-09-11T12:15:51.060718Z"
    }
   },
   "outputs": [
    {
     "data": {
      "text/plain": [
       "'X_train_scaled Dataset:'"
      ]
     },
     "metadata": {},
     "output_type": "display_data"
    },
    {
     "data": {
      "text/html": [
       "<div>\n",
       "<style scoped>\n",
       "    .dataframe tbody tr th:only-of-type {\n",
       "        vertical-align: middle;\n",
       "    }\n",
       "\n",
       "    .dataframe tbody tr th {\n",
       "        vertical-align: top;\n",
       "    }\n",
       "\n",
       "    .dataframe thead th {\n",
       "        text-align: right;\n",
       "    }\n",
       "</style>\n",
       "<table border=\"1\" class=\"dataframe\">\n",
       "  <thead>\n",
       "    <tr style=\"text-align: right;\">\n",
       "      <th></th>\n",
       "      <th>loan_amnt</th>\n",
       "      <th>funded_amnt_inv</th>\n",
       "      <th>installment</th>\n",
       "      <th>annual_inc</th>\n",
       "    </tr>\n",
       "  </thead>\n",
       "  <tbody>\n",
       "    <tr>\n",
       "      <td>0</td>\n",
       "      <td>0.961300</td>\n",
       "      <td>0.487971</td>\n",
       "      <td>-0.013952</td>\n",
       "      <td>-0.326925</td>\n",
       "    </tr>\n",
       "    <tr>\n",
       "      <td>1</td>\n",
       "      <td>1.741417</td>\n",
       "      <td>-0.336399</td>\n",
       "      <td>0.812258</td>\n",
       "      <td>0.582909</td>\n",
       "    </tr>\n",
       "    <tr>\n",
       "      <td>2</td>\n",
       "      <td>-0.487489</td>\n",
       "      <td>-0.374986</td>\n",
       "      <td>-0.316000</td>\n",
       "      <td>-0.143161</td>\n",
       "    </tr>\n",
       "  </tbody>\n",
       "</table>\n",
       "</div>"
      ],
      "text/plain": [
       "   loan_amnt  funded_amnt_inv  installment  annual_inc\n",
       "0   0.961300         0.487971    -0.013952   -0.326925\n",
       "1   1.741417        -0.336399     0.812258    0.582909\n",
       "2  -0.487489        -0.374986    -0.316000   -0.143161"
      ]
     },
     "metadata": {},
     "output_type": "display_data"
    },
    {
     "name": "stdout",
     "output_type": "stream",
     "text": [
      "=======================================\n"
     ]
    },
    {
     "data": {
      "text/plain": [
       "'X_test_scaled Dataset:'"
      ]
     },
     "metadata": {},
     "output_type": "display_data"
    },
    {
     "data": {
      "text/html": [
       "<div>\n",
       "<style scoped>\n",
       "    .dataframe tbody tr th:only-of-type {\n",
       "        vertical-align: middle;\n",
       "    }\n",
       "\n",
       "    .dataframe tbody tr th {\n",
       "        vertical-align: top;\n",
       "    }\n",
       "\n",
       "    .dataframe thead th {\n",
       "        text-align: right;\n",
       "    }\n",
       "</style>\n",
       "<table border=\"1\" class=\"dataframe\">\n",
       "  <thead>\n",
       "    <tr style=\"text-align: right;\">\n",
       "      <th></th>\n",
       "      <th>loan_amnt</th>\n",
       "      <th>funded_amnt_inv</th>\n",
       "      <th>installment</th>\n",
       "      <th>annual_inc</th>\n",
       "    </tr>\n",
       "  </thead>\n",
       "  <tbody>\n",
       "    <tr>\n",
       "      <td>0</td>\n",
       "      <td>-0.082234</td>\n",
       "      <td>0.045969</td>\n",
       "      <td>-0.344609</td>\n",
       "      <td>-0.409545</td>\n",
       "    </tr>\n",
       "    <tr>\n",
       "      <td>1</td>\n",
       "      <td>1.065991</td>\n",
       "      <td>1.088323</td>\n",
       "      <td>0.430134</td>\n",
       "      <td>-0.380439</td>\n",
       "    </tr>\n",
       "    <tr>\n",
       "      <td>2</td>\n",
       "      <td>0.390564</td>\n",
       "      <td>0.530067</td>\n",
       "      <td>-0.123644</td>\n",
       "      <td>-0.301346</td>\n",
       "    </tr>\n",
       "  </tbody>\n",
       "</table>\n",
       "</div>"
      ],
      "text/plain": [
       "   loan_amnt  funded_amnt_inv  installment  annual_inc\n",
       "0  -0.082234         0.045969    -0.344609   -0.409545\n",
       "1   1.065991         1.088323     0.430134   -0.380439\n",
       "2   0.390564         0.530067    -0.123644   -0.301346"
      ]
     },
     "metadata": {},
     "output_type": "display_data"
    }
   ],
   "source": [
    "display('X_train_scaled Dataset:', X_train_scaled.head(3))\n",
    "print('=======================================')\n",
    "display('X_test_scaled Dataset:', X_test_scaled.head(3))"
   ]
  },
  {
   "cell_type": "code",
   "execution_count": 30,
   "metadata": {
    "ExecuteTime": {
     "end_time": "2020-09-11T12:16:36.993757Z",
     "start_time": "2020-09-11T12:16:36.990676Z"
    }
   },
   "outputs": [
    {
     "name": "stdout",
     "output_type": "stream",
     "text": [
      "X_train_scaled shape: (29774, 4)\n",
      "X_test_scaled shape: (12761, 4)\n"
     ]
    }
   ],
   "source": [
    "print('X_train_scaled shape:', X_train_scaled.shape)\n",
    "print('X_test_scaled shape:', X_test_scaled.shape)"
   ]
  },
  {
   "cell_type": "markdown",
   "metadata": {},
   "source": [
    "## Define a K-fold Cross Validation Methodology\n",
    "\n",
    "Now that your have a complete holdout test set, you will perform k-fold cross-validation using the following steps: \n",
    "\n",
    "- Create a function that returns a compiled deep learning model \n",
    "- Use the wrapper function `KerasRegressor()` that defines how these folds are trained \n",
    "- Call the `cross_val_predict()` function to perform k-fold cross-validation \n",
    "\n",
    "In the cell below, we've defined a baseline model that returns a compiled Keras models. "
   ]
  },
  {
   "cell_type": "code",
   "execution_count": 31,
   "metadata": {
    "ExecuteTime": {
     "end_time": "2020-09-11T12:18:00.791736Z",
     "start_time": "2020-09-11T12:18:00.787442Z"
    }
   },
   "outputs": [],
   "source": [
    "# Define a function that returns a compiled Keras model \n",
    "def create_baseline_model():\n",
    "    \n",
    "    # Initialize model\n",
    "    model = models.Sequential()\n",
    "\n",
    "    # First hidden layer\n",
    "    model.add(layers.Dense(10, activation='relu', input_shape=(n_features,)))\n",
    "\n",
    "    # Second hidden layer\n",
    "    model.add(layers.Dense(5, activation='relu'))\n",
    "\n",
    "    # Output layer\n",
    "    model.add(layers.Dense(1, activation='linear'))\n",
    "\n",
    "    # Compile the model\n",
    "    model.compile(optimizer='SGD', \n",
    "                  loss='mse',  \n",
    "                  metrics=['mse']) \n",
    "    \n",
    "    # Return the compiled model\n",
    "    return model"
   ]
  },
  {
   "cell_type": "markdown",
   "metadata": {},
   "source": [
    "Wrap `create_baseline_model` inside a call to `KerasRegressor()`, and: \n",
    "\n",
    "- Train for 150 epochs \n",
    "- Set the batch size to 256 \n",
    "\n",
    "> NOTE: Refer to the [documentation](https://keras.io/scikit-learn-api/) to learn about `KerasRegressor()`.  "
   ]
  },
  {
   "cell_type": "code",
   "execution_count": 33,
   "metadata": {
    "ExecuteTime": {
     "end_time": "2020-09-11T12:19:16.798144Z",
     "start_time": "2020-09-11T12:19:16.795384Z"
    }
   },
   "outputs": [],
   "source": [
    "# Wrap the above function for use in cross-validation\n",
    "keras_wrapper_1 = KerasRegressor(create_baseline_model,\n",
    "                                epochs=150,\n",
    "                                batch_size=256,\n",
    "                                verbose=0)"
   ]
  },
  {
   "cell_type": "markdown",
   "metadata": {},
   "source": [
    "Use `cross_val_predict()` to generate cross-validated predictions with: \n",
    "- 5-fold cv \n",
    "- scaled input (`X_train_all`) and output (`y_train_scaled`) "
   ]
  },
  {
   "cell_type": "code",
   "execution_count": 34,
   "metadata": {
    "ExecuteTime": {
     "end_time": "2020-09-11T12:21:07.114712Z",
     "start_time": "2020-09-11T12:20:07.776051Z"
    }
   },
   "outputs": [],
   "source": [
    "# ⏰ This cell may take several mintes to run\n",
    "# Generate cross-validated predictions\n",
    "np.random.seed(123)\n",
    "cv_baseline_preds = cross_val_predict(keras_wrapper_1, X_train_all, y_train_scaled, cv=5)"
   ]
  },
  {
   "cell_type": "markdown",
   "metadata": {},
   "source": [
    "- Find the RMSE on train data "
   ]
  },
  {
   "cell_type": "code",
   "execution_count": 35,
   "metadata": {
    "ExecuteTime": {
     "end_time": "2020-09-11T12:21:16.004676Z",
     "start_time": "2020-09-11T12:21:15.997391Z"
    }
   },
   "outputs": [
    {
     "data": {
      "text/plain": [
       "0.4442127693659362"
      ]
     },
     "execution_count": 35,
     "metadata": {},
     "output_type": "execute_result"
    }
   ],
   "source": [
    "# RMSE on train data (scaled)\n",
    "np.sqrt(mean_squared_error(y_train_scaled, cv_baseline_preds))"
   ]
  },
  {
   "cell_type": "markdown",
   "metadata": {},
   "source": [
    "- Convert the scaled predictions back to original scale \n",
    "- Calculate RMSE in the original units with `y_train` and `baseline_preds` "
   ]
  },
  {
   "cell_type": "code",
   "execution_count": 36,
   "metadata": {
    "ExecuteTime": {
     "end_time": "2020-09-11T12:22:13.759500Z",
     "start_time": "2020-09-11T12:22:13.753301Z"
    }
   },
   "outputs": [
    {
     "data": {
      "text/plain": [
       "4046.1295634002836"
      ]
     },
     "execution_count": 36,
     "metadata": {},
     "output_type": "execute_result"
    }
   ],
   "source": [
    "# Convert the predictions back to original scale\n",
    "baseline_preds = ss_y.inverse_transform(cv_baseline_preds)\n",
    "\n",
    "# RMSE on train data (original scale)\n",
    "np.sqrt(mean_squared_error(y_train, baseline_preds))"
   ]
  },
  {
   "cell_type": "markdown",
   "metadata": {},
   "source": [
    "## Intentionally Overfitting a Model\n",
    "\n",
    "Now that you've developed a baseline model, its time to intentionally overfit a model. To overfit a model, you can:\n",
    "* Add layers\n",
    "* Make the layers bigger\n",
    "* Increase the number of training epochs\n",
    "\n",
    "Again, be careful here. Think about the limitations of your resources, both in terms of your computers specs and how much time and patience you have to let the process run. Also keep in mind that you will then be regularizing these overfit models, meaning another round of experiments and more time and resources."
   ]
  },
  {
   "cell_type": "code",
   "execution_count": 63,
   "metadata": {
    "ExecuteTime": {
     "end_time": "2020-09-11T12:35:50.710972Z",
     "start_time": "2020-09-11T12:35:50.705713Z"
    }
   },
   "outputs": [],
   "source": [
    "# Define a function that returns a compiled Keras model \n",
    "def create_bigger_model():\n",
    "    \n",
    "    # Initialize model\n",
    "    model = models.Sequential()\n",
    "\n",
    "    # First hidden layer\n",
    "    model.add(layers.Dense(10, activation='relu', input_shape=(n_features,)))\n",
    "\n",
    "    # Second hidden layer\n",
    "    model.add(layers.Dense(10, activation='relu'))\n",
    "    \n",
    "    # Third hidden layer\n",
    "    model.add(layers.Dense(10, activation='relu'))\n",
    "    \n",
    "    # Fourth hidden layer\n",
    "    model.add(layers.Dense(10, activation='relu'))\n",
    "    \n",
    "    # Fifth hidden layer\n",
    "    model.add(layers.Dense(10, activation='relu'))\n",
    "\n",
    "    # Output layer\n",
    "    model.add(layers.Dense(1, activation='linear'))\n",
    "\n",
    "    # Compile the model\n",
    "    model.compile(optimizer='SGD', \n",
    "                  loss='mse',  \n",
    "                  metrics=['mse']) \n",
    "    \n",
    "    # Return the compiled model\n",
    "    return model"
   ]
  },
  {
   "cell_type": "code",
   "execution_count": 64,
   "metadata": {
    "ExecuteTime": {
     "end_time": "2020-09-11T12:35:51.584866Z",
     "start_time": "2020-09-11T12:35:51.582050Z"
    }
   },
   "outputs": [],
   "source": [
    "# Wrap the above function for use in cross-validation\n",
    "keras_wrapper_2 = KerasRegressor(create_bigger_model,  \n",
    "                                 epochs=150, \n",
    "                                 batch_size=256, \n",
    "                                 verbose=0)"
   ]
  },
  {
   "cell_type": "code",
   "execution_count": 65,
   "metadata": {
    "ExecuteTime": {
     "end_time": "2020-09-11T12:37:08.401488Z",
     "start_time": "2020-09-11T12:35:52.240914Z"
    },
    "scrolled": false
   },
   "outputs": [],
   "source": [
    "# ⏰ This cell may take several mintes to run\n",
    "# Generate cross-validated predictions\n",
    "np.random.seed(123)\n",
    "cv_bigger_model_preds = cross_val_predict(keras_wrapper_2, X_train_all, y_train_scaled, cv=5)\n"
   ]
  },
  {
   "cell_type": "code",
   "execution_count": 66,
   "metadata": {
    "ExecuteTime": {
     "end_time": "2020-09-11T12:37:11.064438Z",
     "start_time": "2020-09-11T12:37:11.059995Z"
    }
   },
   "outputs": [
    {
     "data": {
      "text/plain": [
       "0.44725946672619843"
      ]
     },
     "execution_count": 66,
     "metadata": {},
     "output_type": "execute_result"
    }
   ],
   "source": [
    "# RMSE on train data (scaled)\n",
    "np.sqrt(mean_squared_error(y_train_scaled, cv_bigger_model_preds))"
   ]
  },
  {
   "cell_type": "markdown",
   "metadata": {},
   "source": [
    "## Regularizing the Model to Achieve Balance  \n",
    "\n",
    "Now that you have a powerful model (albeit an overfit one), we can now increase the generalization of the model by using some of the regularization techniques we discussed. Some options you have to try include:  \n",
    "* Adding dropout\n",
    "* Adding L1/L2 regularization\n",
    "* Altering the layer architecture (add or remove layers similar to above)  \n",
    "\n",
    "This process will be constrained by time and resources. Be sure to test at least two different methodologies, such as dropout and L2 regularization. If you have the time, feel free to continue experimenting. "
   ]
  },
  {
   "cell_type": "code",
   "execution_count": 67,
   "metadata": {
    "ExecuteTime": {
     "end_time": "2020-09-11T12:38:50.186735Z",
     "start_time": "2020-09-11T12:38:50.180746Z"
    }
   },
   "outputs": [],
   "source": [
    "# Define a function that returns a compiled Keras model \n",
    "def create_regularized_model():\n",
    "    \n",
    "    # I will start with the Dropout\n",
    "    \n",
    "    # Initialize model\n",
    "    model = models.Sequential()\n",
    "\n",
    "    # Input layer with dropout\n",
    "    model.add(layers.Dropout(0.3, input_shape=(n_features,)))\n",
    "    \n",
    "    # First hidden layer\n",
    "    model.add(layers.Dense(10, kernel_regularizer=regularizers.l2(0.005), activation='relu'))\n",
    "    model.add(layers.Dropout(0.3))\n",
    "\n",
    "    # Second hidden layer\n",
    "    model.add(layers.Dense(10, kernel_regularizer=regularizers.l2(0.005), activation='relu'))\n",
    "    model.add(layers.Dropout(0.3))\n",
    "    \n",
    "    # Third hidden layer\n",
    "    model.add(layers.Dense(10, kernel_regularizer=regularizers.l2(0.005), activation='relu'))\n",
    "    model.add(layers.Dropout(0.3))\n",
    "\n",
    "    # Output layer\n",
    "    model.add(layers.Dense(1, activation='linear'))\n",
    "\n",
    "    # Compile the model\n",
    "    model.compile(optimizer='SGD', \n",
    "                  loss='mse',  \n",
    "                  metrics=['mse']) \n",
    "    \n",
    "    # Return the compiled model\n",
    "    return model\n",
    "    \n",
    "    "
   ]
  },
  {
   "cell_type": "code",
   "execution_count": 72,
   "metadata": {
    "ExecuteTime": {
     "end_time": "2020-09-11T12:41:11.109478Z",
     "start_time": "2020-09-11T12:41:11.106704Z"
    }
   },
   "outputs": [],
   "source": [
    "# Wrap the above function for use in cross-validation\n",
    "keras_wrapper_3 = KerasRegressor(create_regularized_model,  \n",
    "                                 epochs=150, \n",
    "                                 batch_size=256, \n",
    "                                 verbose=0)"
   ]
  },
  {
   "cell_type": "code",
   "execution_count": 73,
   "metadata": {
    "ExecuteTime": {
     "end_time": "2020-09-11T12:43:16.765535Z",
     "start_time": "2020-09-11T12:41:40.773404Z"
    }
   },
   "outputs": [],
   "source": [
    "# ⏰ This cell may take several mintes to run\n",
    "# Generate cross-validated predictions\n",
    "np.random.seed(123)\n",
    "cv_dropout_preds = cross_val_predict(keras_wrapper_3, X_train_all, y_train_scaled, cv=5)"
   ]
  },
  {
   "cell_type": "code",
   "execution_count": 75,
   "metadata": {
    "ExecuteTime": {
     "end_time": "2020-09-11T12:43:44.684436Z",
     "start_time": "2020-09-11T12:43:44.679943Z"
    }
   },
   "outputs": [
    {
     "data": {
      "text/plain": [
       "0.5900710911438259"
      ]
     },
     "execution_count": 75,
     "metadata": {},
     "output_type": "execute_result"
    }
   ],
   "source": [
    "# RMSE on train data (scaled)\n",
    "np.sqrt(mean_squared_error(y_train_scaled, cv_dropout_preds))"
   ]
  },
  {
   "cell_type": "markdown",
   "metadata": {},
   "source": [
    "## Final Evaluation\n",
    "\n",
    "Now that you have selected a network architecture, tested various regularization procedures and tuned hyperparameters via a validation methodology, it is time to evaluate your final model on the test set. Fit the model using all of the training data using the architecture and hyperparameters that were most effective in your experiments above. Afterwards, measure the overall performance on the hold-out test data which has been left untouched (and hasn't leaked any data into the modeling process)! "
   ]
  },
  {
   "cell_type": "code",
   "execution_count": 77,
   "metadata": {
    "ExecuteTime": {
     "end_time": "2020-09-11T12:46:28.337136Z",
     "start_time": "2020-09-11T12:46:12.089118Z"
    }
   },
   "outputs": [
    {
     "data": {
      "text/plain": [
       "<keras.callbacks.History at 0x13d9bf668>"
      ]
     },
     "execution_count": 77,
     "metadata": {},
     "output_type": "execute_result"
    }
   ],
   "source": [
    "# ⏰ This cell may take several mintes to run\n",
    "\n",
    "# Initialize model\n",
    "model = models.Sequential()\n",
    "\n",
    "# First hidden layer\n",
    "model.add(layers.Dense(10, activation='relu', input_shape=(n_features,)))\n",
    "\n",
    "# Second hidden layer\n",
    "model.add(layers.Dense(5, activation='relu'))\n",
    "\n",
    "# Output layer\n",
    "model.add(layers.Dense(1, activation='linear'))\n",
    "\n",
    "# Compile the model\n",
    "model.compile(optimizer='SGD', loss='mse', metrics=['mse'])\n",
    "\n",
    "# Train the model\n",
    "model.fit(X_train_all, y_train_scaled, epochs=150, batch_size=256, verbose=0)"
   ]
  },
  {
   "cell_type": "code",
   "execution_count": 79,
   "metadata": {
    "ExecuteTime": {
     "end_time": "2020-09-11T12:48:01.229126Z",
     "start_time": "2020-09-11T12:48:00.928178Z"
    }
   },
   "outputs": [
    {
     "data": {
      "text/plain": [
       "3852.3752838266923"
      ]
     },
     "execution_count": 79,
     "metadata": {},
     "output_type": "execute_result"
    }
   ],
   "source": [
    "# Generate predictions on test data\n",
    "final_preds_scaled = model.predict(X_test_all)\n",
    "\n",
    "# Convert the predictions back to the original scale\n",
    "final_preds = ss_y.inverse_transform(final_preds_scaled)\n",
    "\n",
    "# RMSE on test data with the original scale\n",
    "np.sqrt(mean_squared_error(y_test, final_preds))"
   ]
  },
  {
   "cell_type": "markdown",
   "metadata": {},
   "source": [
    "## Summary\n",
    "\n",
    "In this lab, you investigated some data from *The Lending Club* in a complete data science pipeline to build neural networks with good performance. You began with reserving a hold-out set for testing which never was touched during the modeling phase. From there, you implemented a k-fold cross validation methodology in order to assess an initial baseline model and various regularization methods. "
   ]
  }
 ],
 "metadata": {
  "kernelspec": {
   "display_name": "learn-env",
   "language": "python",
   "name": "learn-env"
  },
  "language_info": {
   "codemirror_mode": {
    "name": "ipython",
    "version": 3
   },
   "file_extension": ".py",
   "mimetype": "text/x-python",
   "name": "python",
   "nbconvert_exporter": "python",
   "pygments_lexer": "ipython3",
   "version": "3.6.9"
  },
  "toc": {
   "base_numbering": 1,
   "nav_menu": {},
   "number_sections": true,
   "sideBar": true,
   "skip_h1_title": false,
   "title_cell": "Table of Contents",
   "title_sidebar": "Contents",
   "toc_cell": false,
   "toc_position": {},
   "toc_section_display": true,
   "toc_window_display": false
  },
  "varInspector": {
   "cols": {
    "lenName": 16,
    "lenType": 16,
    "lenVar": 40
   },
   "kernels_config": {
    "python": {
     "delete_cmd_postfix": "",
     "delete_cmd_prefix": "del ",
     "library": "var_list.py",
     "varRefreshCmd": "print(var_dic_list())"
    },
    "r": {
     "delete_cmd_postfix": ") ",
     "delete_cmd_prefix": "rm(",
     "library": "var_list.r",
     "varRefreshCmd": "cat(var_dic_list()) "
    }
   },
   "types_to_exclude": [
    "module",
    "function",
    "builtin_function_or_method",
    "instance",
    "_Feature"
   ],
   "window_display": false
  }
 },
 "nbformat": 4,
 "nbformat_minor": 2
}
